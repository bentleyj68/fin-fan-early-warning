{
 "metadata": {
  "language_info": {
   "codemirror_mode": {
    "name": "ipython",
    "version": 3
   },
   "file_extension": ".py",
   "mimetype": "text/x-python",
   "name": "python",
   "nbconvert_exporter": "python",
   "pygments_lexer": "ipython3",
   "version": "3.6.10"
  },
  "orig_nbformat": 2,
  "kernelspec": {
   "name": "python3610jvsc74a57bd02bf60f7f62a9b17f7cccd910bdb7d19f5f505debd48b14e89e2e5eef6906d64c",
   "display_name": "Python 3.6.10 64-bit ('PythonData': conda)"
  }
 },
 "nbformat": 4,
 "nbformat_minor": 2,
 "cells": [
  {
   "source": [
    "## Load Fin-Fan failure detail"
   ],
   "cell_type": "markdown",
   "metadata": {}
  },
  {
   "cell_type": "code",
   "execution_count": 1,
   "metadata": {},
   "outputs": [],
   "source": [
    "#Dependencies\n",
    "import pandas as pd\n",
    "from sqlalchemy import create_engine"
   ]
  },
  {
   "source": [
    "\n",
    "\n",
    "Extract CSV into DataFrames"
   ],
   "cell_type": "markdown",
   "metadata": {}
  },
  {
   "cell_type": "code",
   "execution_count": 2,
   "metadata": {},
   "outputs": [],
   "source": [
    "failure_csv = \"resources/HVAC_failures_2021.csv\""
   ]
  },
  {
   "source": [
    "Transform CSV DataFrame"
   ],
   "cell_type": "markdown",
   "metadata": {}
  },
  {
   "cell_type": "code",
   "execution_count": 3,
   "metadata": {},
   "outputs": [
    {
     "output_type": "execute_result",
     "data": {
      "text/plain": [
       "                                          Event name        Start time  \\\n",
       "0  HVAC Fan S311HHU205B Bearing Failure 2020-01-1...  16/01/2020 14:11   \n",
       "1  HVAC Fan S311HHU209B Bearing Failure 2020-03-0...   8/03/2020 20:11   \n",
       "2  HVAC Fan S311HHU209B Bearing Failure 2020-04-2...  24/04/2020 10:02   \n",
       "3  HVAC Fan S311HHU209B Bearing Failure 2020-11-0...    5/11/2020 6:35   \n",
       "4  HVAC Fan S311HK017A Bearing Failure 2021-02-06...   6/02/2021 20:31   \n",
       "\n",
       "           End time  Duration               Event template Primary element  \\\n",
       "0  16/01/2020 14:20   0:08:54  HVAC Fan Failed Event Frame     S311HHU205B   \n",
       "1   8/03/2020 20:51   0:40:10  HVAC Fan Failed Event Frame     S311HHU209B   \n",
       "2  24/04/2020 10:22   0:19:45  HVAC Fan Failed Event Frame     S311HHU209B   \n",
       "3    5/11/2020 6:47   0:11:53  HVAC Fan Failed Event Frame     S311HHU209B   \n",
       "4    7/02/2021 7:23  10:52:13  HVAC Fan Failed Event Frame      S311HK017A   \n",
       "\n",
       "                                Primary element path  \\\n",
       "0  \\\\ICHTHYS_PIAF\\Predictive Analytics\\HVAC Fan\\F...   \n",
       "1  \\\\ICHTHYS_PIAF\\Predictive Analytics\\HVAC Fan\\F...   \n",
       "2  \\\\ICHTHYS_PIAF\\Predictive Analytics\\HVAC Fan\\F...   \n",
       "3  \\\\ICHTHYS_PIAF\\Predictive Analytics\\HVAC Fan\\F...   \n",
       "4  \\\\ICHTHYS_PIAF\\Predictive Analytics\\HVAC Fan\\F...   \n",
       "\n",
       "  Running status reset post event start?  Unnamed: 8   Difference  \\\n",
       "0                        9/02/2020 15:41         0.0  577.3433419   \n",
       "1                       26/03/2020 22:39         0.0  433.8001192   \n",
       "2                        11/05/2020 9:17         0.0  406.9254994   \n",
       "3                        31/01/2021 7:18         0.0   2088.51602   \n",
       "4                         7/02/2021 7:23         0.0            0   \n",
       "\n",
       "                                Comments  Failure  \n",
       "0  False Alarm (speed drop for few mins)    False  \n",
       "1  False Alarm (speed drop for few mins)    False  \n",
       "2  False Alarm (speed drop for few mins)    False  \n",
       "3  False Alarm (speed drop for few mins)    False  \n",
       "4                           TRUE Failure     True  "
      ],
      "text/html": "<div>\n<style scoped>\n    .dataframe tbody tr th:only-of-type {\n        vertical-align: middle;\n    }\n\n    .dataframe tbody tr th {\n        vertical-align: top;\n    }\n\n    .dataframe thead th {\n        text-align: right;\n    }\n</style>\n<table border=\"1\" class=\"dataframe\">\n  <thead>\n    <tr style=\"text-align: right;\">\n      <th></th>\n      <th>Event name</th>\n      <th>Start time</th>\n      <th>End time</th>\n      <th>Duration</th>\n      <th>Event template</th>\n      <th>Primary element</th>\n      <th>Primary element path</th>\n      <th>Running status reset post event start?</th>\n      <th>Unnamed: 8</th>\n      <th>Difference</th>\n      <th>Comments</th>\n      <th>Failure</th>\n    </tr>\n  </thead>\n  <tbody>\n    <tr>\n      <th>0</th>\n      <td>HVAC Fan S311HHU205B Bearing Failure 2020-01-1...</td>\n      <td>16/01/2020 14:11</td>\n      <td>16/01/2020 14:20</td>\n      <td>0:08:54</td>\n      <td>HVAC Fan Failed Event Frame</td>\n      <td>S311HHU205B</td>\n      <td>\\\\ICHTHYS_PIAF\\Predictive Analytics\\HVAC Fan\\F...</td>\n      <td>9/02/2020 15:41</td>\n      <td>0.0</td>\n      <td>577.3433419</td>\n      <td>False Alarm (speed drop for few mins)</td>\n      <td>False</td>\n    </tr>\n    <tr>\n      <th>1</th>\n      <td>HVAC Fan S311HHU209B Bearing Failure 2020-03-0...</td>\n      <td>8/03/2020 20:11</td>\n      <td>8/03/2020 20:51</td>\n      <td>0:40:10</td>\n      <td>HVAC Fan Failed Event Frame</td>\n      <td>S311HHU209B</td>\n      <td>\\\\ICHTHYS_PIAF\\Predictive Analytics\\HVAC Fan\\F...</td>\n      <td>26/03/2020 22:39</td>\n      <td>0.0</td>\n      <td>433.8001192</td>\n      <td>False Alarm (speed drop for few mins)</td>\n      <td>False</td>\n    </tr>\n    <tr>\n      <th>2</th>\n      <td>HVAC Fan S311HHU209B Bearing Failure 2020-04-2...</td>\n      <td>24/04/2020 10:02</td>\n      <td>24/04/2020 10:22</td>\n      <td>0:19:45</td>\n      <td>HVAC Fan Failed Event Frame</td>\n      <td>S311HHU209B</td>\n      <td>\\\\ICHTHYS_PIAF\\Predictive Analytics\\HVAC Fan\\F...</td>\n      <td>11/05/2020 9:17</td>\n      <td>0.0</td>\n      <td>406.9254994</td>\n      <td>False Alarm (speed drop for few mins)</td>\n      <td>False</td>\n    </tr>\n    <tr>\n      <th>3</th>\n      <td>HVAC Fan S311HHU209B Bearing Failure 2020-11-0...</td>\n      <td>5/11/2020 6:35</td>\n      <td>5/11/2020 6:47</td>\n      <td>0:11:53</td>\n      <td>HVAC Fan Failed Event Frame</td>\n      <td>S311HHU209B</td>\n      <td>\\\\ICHTHYS_PIAF\\Predictive Analytics\\HVAC Fan\\F...</td>\n      <td>31/01/2021 7:18</td>\n      <td>0.0</td>\n      <td>2088.51602</td>\n      <td>False Alarm (speed drop for few mins)</td>\n      <td>False</td>\n    </tr>\n    <tr>\n      <th>4</th>\n      <td>HVAC Fan S311HK017A Bearing Failure 2021-02-06...</td>\n      <td>6/02/2021 20:31</td>\n      <td>7/02/2021 7:23</td>\n      <td>10:52:13</td>\n      <td>HVAC Fan Failed Event Frame</td>\n      <td>S311HK017A</td>\n      <td>\\\\ICHTHYS_PIAF\\Predictive Analytics\\HVAC Fan\\F...</td>\n      <td>7/02/2021 7:23</td>\n      <td>0.0</td>\n      <td>0</td>\n      <td>TRUE Failure</td>\n      <td>True</td>\n    </tr>\n  </tbody>\n</table>\n</div>"
     },
     "metadata": {},
     "execution_count": 3
    }
   ],
   "source": [
    "failure_df = pd.read_csv(failure_csv)\n",
    "failure_df.head()\n"
   ]
  },
  {
   "cell_type": "code",
   "execution_count": 4,
   "metadata": {},
   "outputs": [
    {
     "output_type": "execute_result",
     "data": {
      "text/plain": [
       "  Primary element        Start time          End time  Duration   Difference  \\\n",
       "0     S311HHU205B  16/01/2020 14:11  16/01/2020 14:20   0:08:54  577.3433419   \n",
       "1     S311HHU209B   8/03/2020 20:11   8/03/2020 20:51   0:40:10  433.8001192   \n",
       "2     S311HHU209B  24/04/2020 10:02  24/04/2020 10:22   0:19:45  406.9254994   \n",
       "3     S311HHU209B    5/11/2020 6:35    5/11/2020 6:47   0:11:53   2088.51602   \n",
       "4      S311HK017A   6/02/2021 20:31    7/02/2021 7:23  10:52:13            0   \n",
       "\n",
       "                                Comments  Failure  \n",
       "0  False Alarm (speed drop for few mins)    False  \n",
       "1  False Alarm (speed drop for few mins)    False  \n",
       "2  False Alarm (speed drop for few mins)    False  \n",
       "3  False Alarm (speed drop for few mins)    False  \n",
       "4                           TRUE Failure     True  "
      ],
      "text/html": "<div>\n<style scoped>\n    .dataframe tbody tr th:only-of-type {\n        vertical-align: middle;\n    }\n\n    .dataframe tbody tr th {\n        vertical-align: top;\n    }\n\n    .dataframe thead th {\n        text-align: right;\n    }\n</style>\n<table border=\"1\" class=\"dataframe\">\n  <thead>\n    <tr style=\"text-align: right;\">\n      <th></th>\n      <th>Primary element</th>\n      <th>Start time</th>\n      <th>End time</th>\n      <th>Duration</th>\n      <th>Difference</th>\n      <th>Comments</th>\n      <th>Failure</th>\n    </tr>\n  </thead>\n  <tbody>\n    <tr>\n      <th>0</th>\n      <td>S311HHU205B</td>\n      <td>16/01/2020 14:11</td>\n      <td>16/01/2020 14:20</td>\n      <td>0:08:54</td>\n      <td>577.3433419</td>\n      <td>False Alarm (speed drop for few mins)</td>\n      <td>False</td>\n    </tr>\n    <tr>\n      <th>1</th>\n      <td>S311HHU209B</td>\n      <td>8/03/2020 20:11</td>\n      <td>8/03/2020 20:51</td>\n      <td>0:40:10</td>\n      <td>433.8001192</td>\n      <td>False Alarm (speed drop for few mins)</td>\n      <td>False</td>\n    </tr>\n    <tr>\n      <th>2</th>\n      <td>S311HHU209B</td>\n      <td>24/04/2020 10:02</td>\n      <td>24/04/2020 10:22</td>\n      <td>0:19:45</td>\n      <td>406.9254994</td>\n      <td>False Alarm (speed drop for few mins)</td>\n      <td>False</td>\n    </tr>\n    <tr>\n      <th>3</th>\n      <td>S311HHU209B</td>\n      <td>5/11/2020 6:35</td>\n      <td>5/11/2020 6:47</td>\n      <td>0:11:53</td>\n      <td>2088.51602</td>\n      <td>False Alarm (speed drop for few mins)</td>\n      <td>False</td>\n    </tr>\n    <tr>\n      <th>4</th>\n      <td>S311HK017A</td>\n      <td>6/02/2021 20:31</td>\n      <td>7/02/2021 7:23</td>\n      <td>10:52:13</td>\n      <td>0</td>\n      <td>TRUE Failure</td>\n      <td>True</td>\n    </tr>\n  </tbody>\n</table>\n</div>"
     },
     "metadata": {},
     "execution_count": 4
    }
   ],
   "source": [
    "# Select only the columns required\n",
    "new_failure_df = failure_df[['Primary element','Start time', 'End time','Duration','Difference','Comments','Failure']].copy()\n",
    "new_failure_df.head()\n",
    "\n"
   ]
  },
  {
   "cell_type": "code",
   "execution_count": 7,
   "metadata": {},
   "outputs": [
    {
     "output_type": "execute_result",
     "data": {
      "text/plain": [
       "   primary_element        start_time          end_time   duration  \\\n",
       "0      S311HHU205B  16/01/2020 14:11  16/01/2020 14:20    0:08:54   \n",
       "1      S311HHU209B   8/03/2020 20:11   8/03/2020 20:51    0:40:10   \n",
       "2      S311HHU209B  24/04/2020 10:02  24/04/2020 10:22    0:19:45   \n",
       "3      S311HHU209B    5/11/2020 6:35    5/11/2020 6:47    0:11:53   \n",
       "4       S311HK017A   6/02/2021 20:31    7/02/2021 7:23   10:52:13   \n",
       "5       S311HK020A  16/01/2020 14:20  16/01/2020 14:27    0:07:16   \n",
       "6       S311HK049B  11/02/2021 17:08  11/02/2021 17:14    0:06:00   \n",
       "7       S311HK049B  11/02/2021 18:04  11/02/2021 18:10    0:06:00   \n",
       "8       S311HK049B  11/02/2021 21:01  11/02/2021 21:07    0:06:00   \n",
       "9       S311HK049B   12/02/2021 2:46   12/02/2021 2:52    0:06:00   \n",
       "10      S311HK049B   12/02/2021 3:42   12/02/2021 3:48    0:06:00   \n",
       "11      S311HK049B   12/02/2021 4:38   12/02/2021 4:44    0:06:00   \n",
       "12      S311HK049B   12/02/2021 5:34   12/02/2021 5:40    0:06:00   \n",
       "13     S312HHU203A   20/02/2021 7:34  20/02/2021 14:11    6:37:18   \n",
       "14     S312HHU203A  20/02/2021 14:15  20/02/2021 14:21    0:06:49   \n",
       "15     S312HHU203A    1/03/2021 8:37    1/03/2021 9:15    0:38:29   \n",
       "16     S312HHU203A   8/03/2021 10:18  18/03/2021 14:08  243:50:38   \n",
       "17     S312HHU203A  18/03/2021 16:02   26/03/2021 7:49  183:47:11   \n",
       "18     S312HHU203A   1/04/2021 13:16   1/04/2021 14:16    1:00:07   \n",
       "19     S312HHU203A  18/04/2021 14:47  18/04/2021 14:57    0:10:13   \n",
       "20     S312HHU203B  23/02/2021 12:00  23/02/2021 16:33    4:32:25   \n",
       "21     S312HHU203B  24/02/2021 13:36  24/02/2021 13:42    0:06:00   \n",
       "22     S312HHU203B   1/03/2021 13:15   1/03/2021 14:15    1:00:04   \n",
       "23      S314HK001A  18/02/2021 20:51  22/02/2021 16:27   91:35:49   \n",
       "24      S314HK001A  23/02/2021 10:58  23/02/2021 14:53    3:55:00   \n",
       "25      S314HK001A  23/02/2021 15:36  25/03/2021 15:37  720:00:41   \n",
       "26      S314HK001A   4/04/2021 11:06    9/04/2021 9:50  118:43:36   \n",
       "27      S314HK001A   9/04/2021 10:21  21/04/2021 10:34  288:13:16   \n",
       "28      S314HK001A  21/04/2021 10:35  21/04/2021 10:58    0:23:00   \n",
       "29      S314HK001A  21/04/2021 11:02                      5:49:09   \n",
       "30      S314HK001B  22/02/2021 16:27  23/02/2021 10:58   18:30:31   \n",
       "31      S314HK001B  23/02/2021 14:53  23/02/2021 15:36    0:43:00   \n",
       "32      S314HK001B  25/03/2021 15:37   4/04/2021 11:06  235:29:43   \n",
       "33      S314HK001B    9/04/2021 9:50   9/04/2021 10:21    0:31:00   \n",
       "34      S314HK101A  22/02/2021 16:16  23/02/2021 13:28   21:11:31   \n",
       "35      S314HK101A  23/02/2021 13:29  23/02/2021 14:20    0:51:00   \n",
       "36      S314HK101A  25/03/2021 14:39   6/04/2021 14:24  287:44:47   \n",
       "37      S314HK101A   6/04/2021 14:30   8/04/2021 19:42   53:12:03   \n",
       "38      S314HK101A    9/04/2021 7:35    9/04/2021 7:41    0:06:00   \n",
       "39      S314HK101A    9/04/2021 9:50   9/04/2021 10:26    0:36:00   \n",
       "40      S314HK101A   9/04/2021 10:33  21/04/2021 10:45  288:11:46   \n",
       "41      S314HK101B  18/02/2021 20:51  22/02/2021 16:16   91:24:49   \n",
       "42      S314HK101B  23/02/2021 14:20  25/03/2021 14:39  720:18:40   \n",
       "43      S314HK101B   6/04/2021 14:24   6/04/2021 14:30    0:06:30   \n",
       "44      S314HK101B   8/04/2021 19:42    9/04/2021 7:35   11:52:30   \n",
       "45      S314HK101B    9/04/2021 7:41    9/04/2021 9:50    2:09:00   \n",
       "46      S314HK101B   9/04/2021 10:26   9/04/2021 10:33    0:07:00   \n",
       "47      S314HK101B  21/04/2021 10:48  21/04/2021 10:58    0:10:00   \n",
       "48      S314HK101B  21/04/2021 11:02                      5:49:09   \n",
       "\n",
       "     difference                               comments  failure  \n",
       "0   577.3433419  False Alarm (speed drop for few mins)    False  \n",
       "1   433.8001192  False Alarm (speed drop for few mins)    False  \n",
       "2   406.9254994  False Alarm (speed drop for few mins)    False  \n",
       "3    2088.51602  False Alarm (speed drop for few mins)    False  \n",
       "4             0                           TRUE Failure     True  \n",
       "5   0.240321667  False Alarm (speed drop for few mins)    False  \n",
       "6             0                  Possible. Refer Trend     True  \n",
       "7             0                  Possible. Refer Trend     True  \n",
       "8             0                  Possible. Refer Trend     True  \n",
       "9             0                  Possible. Refer Trend     True  \n",
       "10            0                  Possible. Refer Trend     True  \n",
       "11            0                  Possible. Refer Trend     True  \n",
       "12            0                  Possible. Refer Trend     True  \n",
       "13  69.73617833                  Possible. Refer Trend    False  \n",
       "14  69.56575222                  Possible. Refer Trend    False  \n",
       "15  3.975115278                  Possible. Refer Trend    False  \n",
       "16  185.6792839                  Possible. Refer Trend    False  \n",
       "17            0                  Possible. Refer Trend    False  \n",
       "18  187.5674569                  Possible. Refer Trend    False  \n",
       "19      #VALUE!                  Possible. Refer Trend    False  \n",
       "20            0                  Possible. Refer Trend    False  \n",
       "21            0                  Possible. Refer Trend    False  \n",
       "22  164.0267286                  Possible. Refer Trend    False  \n",
       "23            0         Speed Tag seem to be incorrect    False  \n",
       "24            0         Speed Tag seem to be incorrect    False  \n",
       "25            0         Speed Tag seem to be incorrect    False  \n",
       "26            0         Speed Tag seem to be incorrect    False  \n",
       "27            0         Speed Tag seem to be incorrect    False  \n",
       "28            0         Speed Tag seem to be incorrect    False  \n",
       "29      #VALUE!         Speed Tag seem to be incorrect    False  \n",
       "30            0         Speed Tag seem to be incorrect    False  \n",
       "31            0         Speed Tag seem to be incorrect    False  \n",
       "32            0         Speed Tag seem to be incorrect    False  \n",
       "33            0         Speed Tag seem to be incorrect    False  \n",
       "34            0         Speed Tag seem to be incorrect    False  \n",
       "35            0         Speed Tag seem to be incorrect    False  \n",
       "36            0         Speed Tag seem to be incorrect    False  \n",
       "37            0         Speed Tag seem to be incorrect    False  \n",
       "38            0         Speed Tag seem to be incorrect    False  \n",
       "39            0         Speed Tag seem to be incorrect    False  \n",
       "40            0         Speed Tag seem to be incorrect    False  \n",
       "41            0         Speed Tag seem to be incorrect    False  \n",
       "42            0         Speed Tag seem to be incorrect    False  \n",
       "43            0         Speed Tag seem to be incorrect    False  \n",
       "44            0         Speed Tag seem to be incorrect    False  \n",
       "45            0         Speed Tag seem to be incorrect    False  \n",
       "46            0         Speed Tag seem to be incorrect    False  \n",
       "47            0         Speed Tag seem to be incorrect    False  \n",
       "48      #VALUE!         Speed Tag seem to be incorrect    False  "
      ],
      "text/html": "<div>\n<style scoped>\n    .dataframe tbody tr th:only-of-type {\n        vertical-align: middle;\n    }\n\n    .dataframe tbody tr th {\n        vertical-align: top;\n    }\n\n    .dataframe thead th {\n        text-align: right;\n    }\n</style>\n<table border=\"1\" class=\"dataframe\">\n  <thead>\n    <tr style=\"text-align: right;\">\n      <th></th>\n      <th>primary_element</th>\n      <th>start_time</th>\n      <th>end_time</th>\n      <th>duration</th>\n      <th>difference</th>\n      <th>comments</th>\n      <th>failure</th>\n    </tr>\n  </thead>\n  <tbody>\n    <tr>\n      <th>0</th>\n      <td>S311HHU205B</td>\n      <td>16/01/2020 14:11</td>\n      <td>16/01/2020 14:20</td>\n      <td>0:08:54</td>\n      <td>577.3433419</td>\n      <td>False Alarm (speed drop for few mins)</td>\n      <td>False</td>\n    </tr>\n    <tr>\n      <th>1</th>\n      <td>S311HHU209B</td>\n      <td>8/03/2020 20:11</td>\n      <td>8/03/2020 20:51</td>\n      <td>0:40:10</td>\n      <td>433.8001192</td>\n      <td>False Alarm (speed drop for few mins)</td>\n      <td>False</td>\n    </tr>\n    <tr>\n      <th>2</th>\n      <td>S311HHU209B</td>\n      <td>24/04/2020 10:02</td>\n      <td>24/04/2020 10:22</td>\n      <td>0:19:45</td>\n      <td>406.9254994</td>\n      <td>False Alarm (speed drop for few mins)</td>\n      <td>False</td>\n    </tr>\n    <tr>\n      <th>3</th>\n      <td>S311HHU209B</td>\n      <td>5/11/2020 6:35</td>\n      <td>5/11/2020 6:47</td>\n      <td>0:11:53</td>\n      <td>2088.51602</td>\n      <td>False Alarm (speed drop for few mins)</td>\n      <td>False</td>\n    </tr>\n    <tr>\n      <th>4</th>\n      <td>S311HK017A</td>\n      <td>6/02/2021 20:31</td>\n      <td>7/02/2021 7:23</td>\n      <td>10:52:13</td>\n      <td>0</td>\n      <td>TRUE Failure</td>\n      <td>True</td>\n    </tr>\n    <tr>\n      <th>5</th>\n      <td>S311HK020A</td>\n      <td>16/01/2020 14:20</td>\n      <td>16/01/2020 14:27</td>\n      <td>0:07:16</td>\n      <td>0.240321667</td>\n      <td>False Alarm (speed drop for few mins)</td>\n      <td>False</td>\n    </tr>\n    <tr>\n      <th>6</th>\n      <td>S311HK049B</td>\n      <td>11/02/2021 17:08</td>\n      <td>11/02/2021 17:14</td>\n      <td>0:06:00</td>\n      <td>0</td>\n      <td>Possible. Refer Trend</td>\n      <td>True</td>\n    </tr>\n    <tr>\n      <th>7</th>\n      <td>S311HK049B</td>\n      <td>11/02/2021 18:04</td>\n      <td>11/02/2021 18:10</td>\n      <td>0:06:00</td>\n      <td>0</td>\n      <td>Possible. Refer Trend</td>\n      <td>True</td>\n    </tr>\n    <tr>\n      <th>8</th>\n      <td>S311HK049B</td>\n      <td>11/02/2021 21:01</td>\n      <td>11/02/2021 21:07</td>\n      <td>0:06:00</td>\n      <td>0</td>\n      <td>Possible. Refer Trend</td>\n      <td>True</td>\n    </tr>\n    <tr>\n      <th>9</th>\n      <td>S311HK049B</td>\n      <td>12/02/2021 2:46</td>\n      <td>12/02/2021 2:52</td>\n      <td>0:06:00</td>\n      <td>0</td>\n      <td>Possible. Refer Trend</td>\n      <td>True</td>\n    </tr>\n    <tr>\n      <th>10</th>\n      <td>S311HK049B</td>\n      <td>12/02/2021 3:42</td>\n      <td>12/02/2021 3:48</td>\n      <td>0:06:00</td>\n      <td>0</td>\n      <td>Possible. Refer Trend</td>\n      <td>True</td>\n    </tr>\n    <tr>\n      <th>11</th>\n      <td>S311HK049B</td>\n      <td>12/02/2021 4:38</td>\n      <td>12/02/2021 4:44</td>\n      <td>0:06:00</td>\n      <td>0</td>\n      <td>Possible. Refer Trend</td>\n      <td>True</td>\n    </tr>\n    <tr>\n      <th>12</th>\n      <td>S311HK049B</td>\n      <td>12/02/2021 5:34</td>\n      <td>12/02/2021 5:40</td>\n      <td>0:06:00</td>\n      <td>0</td>\n      <td>Possible. Refer Trend</td>\n      <td>True</td>\n    </tr>\n    <tr>\n      <th>13</th>\n      <td>S312HHU203A</td>\n      <td>20/02/2021 7:34</td>\n      <td>20/02/2021 14:11</td>\n      <td>6:37:18</td>\n      <td>69.73617833</td>\n      <td>Possible. Refer Trend</td>\n      <td>False</td>\n    </tr>\n    <tr>\n      <th>14</th>\n      <td>S312HHU203A</td>\n      <td>20/02/2021 14:15</td>\n      <td>20/02/2021 14:21</td>\n      <td>0:06:49</td>\n      <td>69.56575222</td>\n      <td>Possible. Refer Trend</td>\n      <td>False</td>\n    </tr>\n    <tr>\n      <th>15</th>\n      <td>S312HHU203A</td>\n      <td>1/03/2021 8:37</td>\n      <td>1/03/2021 9:15</td>\n      <td>0:38:29</td>\n      <td>3.975115278</td>\n      <td>Possible. Refer Trend</td>\n      <td>False</td>\n    </tr>\n    <tr>\n      <th>16</th>\n      <td>S312HHU203A</td>\n      <td>8/03/2021 10:18</td>\n      <td>18/03/2021 14:08</td>\n      <td>243:50:38</td>\n      <td>185.6792839</td>\n      <td>Possible. Refer Trend</td>\n      <td>False</td>\n    </tr>\n    <tr>\n      <th>17</th>\n      <td>S312HHU203A</td>\n      <td>18/03/2021 16:02</td>\n      <td>26/03/2021 7:49</td>\n      <td>183:47:11</td>\n      <td>0</td>\n      <td>Possible. Refer Trend</td>\n      <td>False</td>\n    </tr>\n    <tr>\n      <th>18</th>\n      <td>S312HHU203A</td>\n      <td>1/04/2021 13:16</td>\n      <td>1/04/2021 14:16</td>\n      <td>1:00:07</td>\n      <td>187.5674569</td>\n      <td>Possible. Refer Trend</td>\n      <td>False</td>\n    </tr>\n    <tr>\n      <th>19</th>\n      <td>S312HHU203A</td>\n      <td>18/04/2021 14:47</td>\n      <td>18/04/2021 14:57</td>\n      <td>0:10:13</td>\n      <td>#VALUE!</td>\n      <td>Possible. Refer Trend</td>\n      <td>False</td>\n    </tr>\n    <tr>\n      <th>20</th>\n      <td>S312HHU203B</td>\n      <td>23/02/2021 12:00</td>\n      <td>23/02/2021 16:33</td>\n      <td>4:32:25</td>\n      <td>0</td>\n      <td>Possible. Refer Trend</td>\n      <td>False</td>\n    </tr>\n    <tr>\n      <th>21</th>\n      <td>S312HHU203B</td>\n      <td>24/02/2021 13:36</td>\n      <td>24/02/2021 13:42</td>\n      <td>0:06:00</td>\n      <td>0</td>\n      <td>Possible. Refer Trend</td>\n      <td>False</td>\n    </tr>\n    <tr>\n      <th>22</th>\n      <td>S312HHU203B</td>\n      <td>1/03/2021 13:15</td>\n      <td>1/03/2021 14:15</td>\n      <td>1:00:04</td>\n      <td>164.0267286</td>\n      <td>Possible. Refer Trend</td>\n      <td>False</td>\n    </tr>\n    <tr>\n      <th>23</th>\n      <td>S314HK001A</td>\n      <td>18/02/2021 20:51</td>\n      <td>22/02/2021 16:27</td>\n      <td>91:35:49</td>\n      <td>0</td>\n      <td>Speed Tag seem to be incorrect</td>\n      <td>False</td>\n    </tr>\n    <tr>\n      <th>24</th>\n      <td>S314HK001A</td>\n      <td>23/02/2021 10:58</td>\n      <td>23/02/2021 14:53</td>\n      <td>3:55:00</td>\n      <td>0</td>\n      <td>Speed Tag seem to be incorrect</td>\n      <td>False</td>\n    </tr>\n    <tr>\n      <th>25</th>\n      <td>S314HK001A</td>\n      <td>23/02/2021 15:36</td>\n      <td>25/03/2021 15:37</td>\n      <td>720:00:41</td>\n      <td>0</td>\n      <td>Speed Tag seem to be incorrect</td>\n      <td>False</td>\n    </tr>\n    <tr>\n      <th>26</th>\n      <td>S314HK001A</td>\n      <td>4/04/2021 11:06</td>\n      <td>9/04/2021 9:50</td>\n      <td>118:43:36</td>\n      <td>0</td>\n      <td>Speed Tag seem to be incorrect</td>\n      <td>False</td>\n    </tr>\n    <tr>\n      <th>27</th>\n      <td>S314HK001A</td>\n      <td>9/04/2021 10:21</td>\n      <td>21/04/2021 10:34</td>\n      <td>288:13:16</td>\n      <td>0</td>\n      <td>Speed Tag seem to be incorrect</td>\n      <td>False</td>\n    </tr>\n    <tr>\n      <th>28</th>\n      <td>S314HK001A</td>\n      <td>21/04/2021 10:35</td>\n      <td>21/04/2021 10:58</td>\n      <td>0:23:00</td>\n      <td>0</td>\n      <td>Speed Tag seem to be incorrect</td>\n      <td>False</td>\n    </tr>\n    <tr>\n      <th>29</th>\n      <td>S314HK001A</td>\n      <td>21/04/2021 11:02</td>\n      <td></td>\n      <td>5:49:09</td>\n      <td>#VALUE!</td>\n      <td>Speed Tag seem to be incorrect</td>\n      <td>False</td>\n    </tr>\n    <tr>\n      <th>30</th>\n      <td>S314HK001B</td>\n      <td>22/02/2021 16:27</td>\n      <td>23/02/2021 10:58</td>\n      <td>18:30:31</td>\n      <td>0</td>\n      <td>Speed Tag seem to be incorrect</td>\n      <td>False</td>\n    </tr>\n    <tr>\n      <th>31</th>\n      <td>S314HK001B</td>\n      <td>23/02/2021 14:53</td>\n      <td>23/02/2021 15:36</td>\n      <td>0:43:00</td>\n      <td>0</td>\n      <td>Speed Tag seem to be incorrect</td>\n      <td>False</td>\n    </tr>\n    <tr>\n      <th>32</th>\n      <td>S314HK001B</td>\n      <td>25/03/2021 15:37</td>\n      <td>4/04/2021 11:06</td>\n      <td>235:29:43</td>\n      <td>0</td>\n      <td>Speed Tag seem to be incorrect</td>\n      <td>False</td>\n    </tr>\n    <tr>\n      <th>33</th>\n      <td>S314HK001B</td>\n      <td>9/04/2021 9:50</td>\n      <td>9/04/2021 10:21</td>\n      <td>0:31:00</td>\n      <td>0</td>\n      <td>Speed Tag seem to be incorrect</td>\n      <td>False</td>\n    </tr>\n    <tr>\n      <th>34</th>\n      <td>S314HK101A</td>\n      <td>22/02/2021 16:16</td>\n      <td>23/02/2021 13:28</td>\n      <td>21:11:31</td>\n      <td>0</td>\n      <td>Speed Tag seem to be incorrect</td>\n      <td>False</td>\n    </tr>\n    <tr>\n      <th>35</th>\n      <td>S314HK101A</td>\n      <td>23/02/2021 13:29</td>\n      <td>23/02/2021 14:20</td>\n      <td>0:51:00</td>\n      <td>0</td>\n      <td>Speed Tag seem to be incorrect</td>\n      <td>False</td>\n    </tr>\n    <tr>\n      <th>36</th>\n      <td>S314HK101A</td>\n      <td>25/03/2021 14:39</td>\n      <td>6/04/2021 14:24</td>\n      <td>287:44:47</td>\n      <td>0</td>\n      <td>Speed Tag seem to be incorrect</td>\n      <td>False</td>\n    </tr>\n    <tr>\n      <th>37</th>\n      <td>S314HK101A</td>\n      <td>6/04/2021 14:30</td>\n      <td>8/04/2021 19:42</td>\n      <td>53:12:03</td>\n      <td>0</td>\n      <td>Speed Tag seem to be incorrect</td>\n      <td>False</td>\n    </tr>\n    <tr>\n      <th>38</th>\n      <td>S314HK101A</td>\n      <td>9/04/2021 7:35</td>\n      <td>9/04/2021 7:41</td>\n      <td>0:06:00</td>\n      <td>0</td>\n      <td>Speed Tag seem to be incorrect</td>\n      <td>False</td>\n    </tr>\n    <tr>\n      <th>39</th>\n      <td>S314HK101A</td>\n      <td>9/04/2021 9:50</td>\n      <td>9/04/2021 10:26</td>\n      <td>0:36:00</td>\n      <td>0</td>\n      <td>Speed Tag seem to be incorrect</td>\n      <td>False</td>\n    </tr>\n    <tr>\n      <th>40</th>\n      <td>S314HK101A</td>\n      <td>9/04/2021 10:33</td>\n      <td>21/04/2021 10:45</td>\n      <td>288:11:46</td>\n      <td>0</td>\n      <td>Speed Tag seem to be incorrect</td>\n      <td>False</td>\n    </tr>\n    <tr>\n      <th>41</th>\n      <td>S314HK101B</td>\n      <td>18/02/2021 20:51</td>\n      <td>22/02/2021 16:16</td>\n      <td>91:24:49</td>\n      <td>0</td>\n      <td>Speed Tag seem to be incorrect</td>\n      <td>False</td>\n    </tr>\n    <tr>\n      <th>42</th>\n      <td>S314HK101B</td>\n      <td>23/02/2021 14:20</td>\n      <td>25/03/2021 14:39</td>\n      <td>720:18:40</td>\n      <td>0</td>\n      <td>Speed Tag seem to be incorrect</td>\n      <td>False</td>\n    </tr>\n    <tr>\n      <th>43</th>\n      <td>S314HK101B</td>\n      <td>6/04/2021 14:24</td>\n      <td>6/04/2021 14:30</td>\n      <td>0:06:30</td>\n      <td>0</td>\n      <td>Speed Tag seem to be incorrect</td>\n      <td>False</td>\n    </tr>\n    <tr>\n      <th>44</th>\n      <td>S314HK101B</td>\n      <td>8/04/2021 19:42</td>\n      <td>9/04/2021 7:35</td>\n      <td>11:52:30</td>\n      <td>0</td>\n      <td>Speed Tag seem to be incorrect</td>\n      <td>False</td>\n    </tr>\n    <tr>\n      <th>45</th>\n      <td>S314HK101B</td>\n      <td>9/04/2021 7:41</td>\n      <td>9/04/2021 9:50</td>\n      <td>2:09:00</td>\n      <td>0</td>\n      <td>Speed Tag seem to be incorrect</td>\n      <td>False</td>\n    </tr>\n    <tr>\n      <th>46</th>\n      <td>S314HK101B</td>\n      <td>9/04/2021 10:26</td>\n      <td>9/04/2021 10:33</td>\n      <td>0:07:00</td>\n      <td>0</td>\n      <td>Speed Tag seem to be incorrect</td>\n      <td>False</td>\n    </tr>\n    <tr>\n      <th>47</th>\n      <td>S314HK101B</td>\n      <td>21/04/2021 10:48</td>\n      <td>21/04/2021 10:58</td>\n      <td>0:10:00</td>\n      <td>0</td>\n      <td>Speed Tag seem to be incorrect</td>\n      <td>False</td>\n    </tr>\n    <tr>\n      <th>48</th>\n      <td>S314HK101B</td>\n      <td>21/04/2021 11:02</td>\n      <td></td>\n      <td>5:49:09</td>\n      <td>#VALUE!</td>\n      <td>Speed Tag seem to be incorrect</td>\n      <td>False</td>\n    </tr>\n  </tbody>\n</table>\n</div>"
     },
     "metadata": {},
     "execution_count": 7
    }
   ],
   "source": [
    "# Rename columns\n",
    "new_failure_df = new_failure_df.rename(columns={'Primary element':'primary_element', 'Start time': 'start_time', 'End time':'end_time', 'Duration':'duration', 'Difference':'difference', 'Comments':'comments', 'Failure':'failure'})\n",
    "new_failure_df\n",
    "\n"
   ]
  },
  {
   "source": [
    "Load"
   ],
   "cell_type": "markdown",
   "metadata": {}
  },
  {
   "cell_type": "code",
   "execution_count": null,
   "metadata": {},
   "outputs": [],
   "source": [
    "# Connect to local database\n",
    "rds_connection_string = \"postgres:postgres@localhost:5432/music_db\"\n",
    "engine = create_engine(f'postgresql://{rds_connection_string}')"
   ]
  },
  {
   "cell_type": "code",
   "execution_count": null,
   "metadata": {},
   "outputs": [],
   "source": [
    "# Create a music_db. Add the tables into postgres database as per schema.sql\n",
    "engine.table_names()"
   ]
  },
  {
   "cell_type": "code",
   "execution_count": null,
   "metadata": {},
   "outputs": [],
   "source": [
    "# Load pandas dataframe new_csv_df to database music_db, table spotify_csv\n",
    "new_csv_df.to_sql(name='spotify_csv', con=engine, if_exists='append', index=False)"
   ]
  },
  {
   "cell_type": "code",
   "execution_count": null,
   "metadata": {},
   "outputs": [],
   "source": [
    "# Load pandas dataframe id_timesig_df to database music_db, table spotify_api\n",
    "id_timesig_df.to_sql(name='spotify_api', con=engine, if_exists='append', index=False)\n",
    "\n",
    "# Alternatively, id_timesig_df pandas dataframe has been saved as a csv file. This csv file can be loaded into postgres database directly in table 'spotify_api'\n",
    "# Relative csv link location: resources/id_timesig_df.csv\n"
   ]
  },
  {
   "cell_type": "code",
   "execution_count": null,
   "metadata": {},
   "outputs": [],
   "source": []
  }
 ]
}