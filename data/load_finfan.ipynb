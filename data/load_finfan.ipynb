{
 "metadata": {
  "language_info": {
   "codemirror_mode": {
    "name": "ipython",
    "version": 3
   },
   "file_extension": ".py",
   "mimetype": "text/x-python",
   "name": "python",
   "nbconvert_exporter": "python",
   "pygments_lexer": "ipython3",
   "version": "3.6.10"
  },
  "orig_nbformat": 2,
  "kernelspec": {
   "name": "python3610jvsc74a57bd02bf60f7f62a9b17f7cccd910bdb7d19f5f505debd48b14e89e2e5eef6906d64c",
   "display_name": "Python 3.6.10 64-bit ('PythonData': conda)"
  }
 },
 "nbformat": 4,
 "nbformat_minor": 2,
 "cells": [
  {
   "source": [
    "## Load Fin-Fan failure detail"
   ],
   "cell_type": "markdown",
   "metadata": {}
  },
  {
   "cell_type": "code",
   "execution_count": null,
   "metadata": {},
   "outputs": [],
   "source": [
    "#Dependencies\n",
    "import pandas as pd\n",
    "from sqlalchemy import create_engine"
   ]
  },
  {
   "source": [
    "\n",
    "\n",
    "Extract CSV into DataFrames"
   ],
   "cell_type": "markdown",
   "metadata": {}
  },
  {
   "cell_type": "code",
   "execution_count": 6,
   "metadata": {},
   "outputs": [],
   "source": [
    "fan_csv = \"finfanIN/finfan_latest.csv\""
   ]
  },
  {
   "source": [
    "Transform CSV DataFrame"
   ],
   "cell_type": "markdown",
   "metadata": {}
  },
  {
   "cell_type": "code",
   "execution_count": 7,
   "metadata": {},
   "outputs": [
    {
     "output_type": "execute_result",
     "data": {
      "text/plain": [
       "  equipment_id  speed\n",
       "0   S311HK049B   2086\n",
       "1   S311HK049B   2086\n",
       "2   S311HK049B   2087\n",
       "3   S311HK049B   2002\n",
       "4   S311HK049B   2086"
      ],
      "text/html": "<div>\n<style scoped>\n    .dataframe tbody tr th:only-of-type {\n        vertical-align: middle;\n    }\n\n    .dataframe tbody tr th {\n        vertical-align: top;\n    }\n\n    .dataframe thead th {\n        text-align: right;\n    }\n</style>\n<table border=\"1\" class=\"dataframe\">\n  <thead>\n    <tr style=\"text-align: right;\">\n      <th></th>\n      <th>equipment_id</th>\n      <th>speed</th>\n    </tr>\n  </thead>\n  <tbody>\n    <tr>\n      <th>0</th>\n      <td>S311HK049B</td>\n      <td>2086</td>\n    </tr>\n    <tr>\n      <th>1</th>\n      <td>S311HK049B</td>\n      <td>2086</td>\n    </tr>\n    <tr>\n      <th>2</th>\n      <td>S311HK049B</td>\n      <td>2087</td>\n    </tr>\n    <tr>\n      <th>3</th>\n      <td>S311HK049B</td>\n      <td>2002</td>\n    </tr>\n    <tr>\n      <th>4</th>\n      <td>S311HK049B</td>\n      <td>2086</td>\n    </tr>\n  </tbody>\n</table>\n</div>"
     },
     "metadata": {},
     "execution_count": 7
    }
   ],
   "source": [
    "fan_df = pd.read_csv(failure_csv)\n",
    "fan_df.head()\n"
   ]
  },
  {
   "source": [
    "Load"
   ],
   "cell_type": "markdown",
   "metadata": {}
  },
  {
   "cell_type": "code",
   "execution_count": 8,
   "metadata": {},
   "outputs": [],
   "source": [
    "# PotgreSQL connection requirements\n",
    "from config import userid\n",
    "from config import password"
   ]
  },
  {
   "cell_type": "code",
   "execution_count": 9,
   "metadata": {},
   "outputs": [],
   "source": [
    "# Connect to AWS database\n",
    "rds_connection_string = f\"{userid}:{password}@awspostgres.ctkgxnaawxx6.ap-southeast-2.rds.amazonaws.com:5432/AWSPostgres\"\n",
    "engine = create_engine(f'postgresql://{rds_connection_string}')"
   ]
  },
  {
   "cell_type": "code",
   "execution_count": 11,
   "metadata": {},
   "outputs": [
    {
     "output_type": "execute_result",
     "data": {
      "text/plain": [
       "['hvac_failures', 'speed']"
      ]
     },
     "metadata": {},
     "execution_count": 11
    }
   ],
   "source": [
    "engine.table_names()"
   ]
  },
  {
   "cell_type": "code",
   "execution_count": 12,
   "metadata": {},
   "outputs": [],
   "source": [
    "# Load pandas dataframe to remote Postgres database table 'hvac_failures'\n",
    "fan_df.to_sql(name='speed', con=engine, if_exists='append', index=False)"
   ]
  },
  {
   "cell_type": "code",
   "execution_count": 14,
   "metadata": {},
   "outputs": [
    {
     "output_type": "execute_result",
     "data": {
      "text/plain": [
       "{'_sa_instance_state': <sqlalchemy.orm.state.InstanceState at 0x233ae0c58d0>,\n",
       " 'speed': 2086,\n",
       " 'id': 1,\n",
       " 'equipment_id': 'S311HK049B'}"
      ]
     },
     "metadata": {},
     "execution_count": 14
    }
   ],
   "source": [
    "# Confirm records in database\n",
    "from sqlalchemy.orm import Session\n",
    "from sqlalchemy.ext.automap import automap_base\n",
    "\n",
    "Base = automap_base()\n",
    "Base.prepare(engine, reflect=True)\n",
    "# Base.classes.keys()\n",
    "\n",
    "speed = Base.classes.speed\n",
    "\n",
    "session = Session(engine)\n",
    "\n",
    "first_row = session.query(speed).first()\n",
    "first_row.__dict__"
   ]
  }
 ]
}